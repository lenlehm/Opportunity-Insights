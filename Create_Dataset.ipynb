{
 "cells": [
  {
   "cell_type": "markdown",
   "metadata": {},
   "source": [
    "## DATASET CREATION\n",
    "\n",
    "Unfortunately, the dataset I will work with does not come as one already done dataset - as it is mostly usual in Data Science projects. <br /> \n",
    "To get the sheer experience of how a normal Data Science job looks like I also wanted to dive into this issue. By experience I can tell that this takes a shit ton of time - like almost 80% - of preparing the data. <br /> \n",
    "Since the data usually shares the same countries and lists mostly the same years of the recording I used this as a primary key where I connect the datapoints with each other. <br /> \n",
    "However, the  countries are listed in rows along with the year of the recording - I want to have a final dataset that looks like follows: <br /> \n",
    "\n",
    "|Country | Afghanistan | Albania | ... | Zimbabwe | \n",
    "| ----- | ----------  | ------ | ----- | ------- | \n",
    "|Alcohol consumption [l] | 0.2 | 2.4 | ... | 0.01 |\n",
    "|Human Develpment Index (HDI) | 0.1 | 0.15 | ... | 0.1 | \n",
    "|... | ... | ... | ... | ... |\n",
    "|Healthcare Expenditure [$] | 13.322 | 15.211 | ... | 1.039 |\n",
    "\n",
    "Thus, I have to transpose each of the countries and record each of the years as seperate entry in the dataset. <br /> \n",
    "\n",
    "All the data is [publicly available](https://ourworldindata.org), and this source is trusted by many notorious companies such as Vox, The Ney York times and even the top universities of this world like MIT, Oxford, Stanford. <br /> \n",
    "Hence, I assume that this data is rather based on actual recording from the respective country. <br /> \n",
    "Even the United Nation published their records in this page and I bet that these folks do some amazing work, which we can trust. <br />\n",
    "\n",
    "\n",
    "But now let's not waste too much with the explaination part and go straight into how I merged the datafiles to one huge on. <br /> "
   ]
  },
  {
   "cell_type": "code",
   "execution_count": 18,
   "metadata": {
    "collapsed": true
   },
   "outputs": [],
   "source": [
    "import os \n",
    "import sys\n",
    "import numpy as np \n",
    "import pandas as pd \n",
    "import matplotlib.pyplot as plt\n",
    "%matplotlib inline"
   ]
  },
  {
   "cell_type": "code",
   "execution_count": 3,
   "metadata": {},
   "outputs": [
    {
     "data": {
      "text/plain": [
       "'C:\\\\Users\\\\Lenny\\\\Documents\\\\Studium_Robotics (M.Sc.)\\\\03_Semester 3 - Oslo ERASMUS\\\\01_Applied Data Analysis and Machine Learning\\\\Project 3'"
      ]
     },
     "execution_count": 3,
     "metadata": {},
     "output_type": "execute_result"
    }
   ],
   "source": [
    "os.getcwd()"
   ]
  },
  {
   "cell_type": "code",
   "execution_count": 6,
   "metadata": {},
   "outputs": [],
   "source": [
    "datapath = os.path.join(os.path.join(os.getcwd(), 'data'), 'Health')"
   ]
  },
  {
   "cell_type": "code",
   "execution_count": 196,
   "metadata": {},
   "outputs": [
    {
     "name": "stdout",
     "output_type": "stream",
     "text": [
      "Water and Sanitation Services.csv\n",
      "261 ['Greenland', 'Japan', 'Portugal', 'Small states', 'Ecuador', 'IDA & IBRD total', 'Bulgaria', 'Monaco', 'Mali', 'El Salvador', 'Egypt', 'Fragile and conflict affected situations', 'World', 'Congo', 'Kiribati', 'High income', 'Israel', 'Upper middle income', 'Spain', 'Myanmar', 'Colombia', 'Pre-demographic dividend', 'Isle of Man', 'Andorra', 'Guam', 'Marshall Islands', 'Cape Verde', 'Libya', 'Sweden', 'Yemen', 'Singapore', 'Croatia', 'Bosnia and Herzegovina', 'Early-demographic dividend', 'Gabon', 'Armenia', 'Democratic Republic of Congo', 'Denmark', 'Fiji', 'Qatar', 'Guinea-Bissau', 'Samoa', 'Cayman Islands', 'Sao Tome and Principe', 'Curacao', 'Malta', 'Turkmenistan', 'Costa Rica', 'OECD members', 'Austria', 'Saudi Arabia', 'South Africa', 'Sub-Saharan Africa (IDA & IBRD)', 'Germany', 'Hungary', 'Kosovo', 'Kuwait', 'Estonia', 'Other small states', 'Indonesia', 'Central Europe and the Baltics', 'Netherlands', 'Uzbekistan', 'Equatorial Guinea', 'Brunei', 'Post-demographic dividend', 'Norway', 'Iceland', 'North Korea', 'Angola', 'Caribbean small states', 'Europe & Central Asia (excluding high income)', 'Greece', 'Sub-Saharan Africa', 'Europe & Central Asia (IDA & IBRD)', 'Iraq', 'Somalia', 'Bhutan', 'Liechtenstein', \"Cote d'Ivoire\", 'Solomon Islands', 'Middle East & North Africa (excluding high income)', 'Hong Kong', 'Azerbaijan', 'Belarus', 'Euro area', 'Iran', 'New Caledonia', 'Slovenia', 'Benin', 'Ireland', 'Chile', 'Thailand', 'Guyana', 'Italy', 'Jordan', 'Guinea', 'Oman', 'Latin America & Caribbean (IDA & IBRD)', 'Mauritius', 'European Union', 'United Kingdom', 'Montenegro', 'Bahrain', 'South Asia', 'Niger', 'Cyprus', 'Heavily indebted poor countries (HIPC)', 'Mexico', 'Philippines', 'Macao', 'Sub-Saharan Africa (excluding high income)', 'Kazakhstan', 'Tuvalu', 'South Korea', 'Comoros', 'Mongolia', 'French Polynesia', 'Bermuda', 'Saint Kitts and Nevis', 'Sint Maarten (Dutch part)', 'Ukraine', 'Saint Martin (French part)', 'Poland', 'Gambia', 'Haiti', 'East Asia & Pacific (excluding high income)', 'Georgia', 'Arab World', 'Sierra Leone', 'Tajikistan', 'Serbia', 'Burundi', 'Namibia', 'Tonga', 'Tanzania', 'Venezuela', 'Eritrea', 'Togo', 'Morocco', 'Vietnam', 'Saint Lucia', 'Kenya', 'South Asia (IDA & IBRD)', 'Gibraltar', 'New Zealand', 'Suriname', 'Argentina', 'Aruba', 'Macedonia', 'Mozambique', 'China', 'Panama', 'Turkey', 'IDA blend', 'Europe & Central Asia', 'Vanuatu', 'Liberia', 'Grenada', 'Romania', 'Uruguay', 'India', 'Paraguay', 'Mauritania', 'Chad', 'Latin America & Caribbean (excluding high income)', 'Afghanistan', 'East Asia & Pacific', 'Albania', 'Bahamas', 'Barbados', 'Belize', 'Luxembourg', 'Malaysia', 'Nauru', 'Syrian Arab Republic', 'Brazil', 'Papua New Guinea', 'Lower middle income', 'Zambia', 'Timor', 'Faeroe Islands', 'Dominica', 'Maldives', 'Russia', 'South Sudan', 'Peru', 'Cuba', 'Low income', 'IBRD only', 'Switzerland', 'Saint Vincent and the Grenadines', 'Pakistan', 'Bangladesh', 'Ghana', 'Palestine', 'Ethiopia', 'Botswana', 'France', 'San Marino', 'United States', 'United States Virgin Islands', 'Zimbabwe', 'Moldova', 'Lebanon', 'IDA total', 'Jamaica', 'Djibouti', 'Northern Mariana Islands', 'Turks and Caicos Islands', 'Kyrgyzstan', 'Pacific island small states', 'Late-demographic dividend', 'Middle income', 'Palau', 'Algeria', 'Sudan', 'Central African Republic', 'Antigua and Barbuda', 'Slovakia', 'Tunisia', 'Micronesia (country)', 'Burkina Faso', 'Channel Islands', 'Malawi', 'Least developed countries: UN classification', 'Czech Republic', 'Latin America & Caribbean', 'East Asia & Pacific (IDA & IBRD)', 'Canada', 'Swaziland', 'Lithuania', 'Australia', 'Dominican Republic', 'Cameroon', 'Honduras', 'Puerto Rico', 'Low & middle income', 'Nigeria', 'Bolivia', 'Guatemala', 'Nepal', 'IDA only', 'Madagascar', 'Latvia', 'Middle East & North Africa', 'Seychelles', 'Cambodia', 'Nicaragua', 'Lesotho', 'North America', 'Finland', 'Rwanda', 'Middle East & North Africa (IDA & IBRD)', 'Senegal', 'Uganda', 'United Arab Emirates', 'Sri Lanka', 'Trinidad and Tobago', 'Belgium', 'Laos']\n"
     ]
    }
   ],
   "source": [
    "dataFileNames = [f for f in os.listdir(datapath) if os.path.isfile(os.path.join(datapath, f))]\n",
    "type4Cols = []\n",
    "type7Cols = []\n",
    "manualLists = []\n",
    "max_countries = 0\n",
    "countries_list = []\n",
    "\n",
    "for file in dataFileNames: \n",
    "    try:\n",
    "        df = pd.read_csv(os.path.join(datapath, str(file) ) , encoding='latin-1')\n",
    "    except: \n",
    "        print(file)\n",
    "        manualLists.append(file)\n",
    "    if df.shape[1] == 4: # one type of files (4 columns) \n",
    "        type4Cols.append(file) \n",
    "        countries = list(set(df[\"Entity\"]))\n",
    "        if len(countries) > max_countries: \n",
    "            max_countries = len(countries)\n",
    "            countries_list = countries\n",
    "    elif df.shape[1] == 7: \n",
    "        type7Cols.append(file) \n",
    "    else: # manual shit  to do then \n",
    "        manualLists.append(file)\n",
    "print( max_countries, countries_list)"
   ]
  },
  {
   "cell_type": "code",
   "execution_count": 26,
   "metadata": {},
   "outputs": [
    {
     "data": {
      "text/html": [
       "<div>\n",
       "<style scoped>\n",
       "    .dataframe tbody tr th:only-of-type {\n",
       "        vertical-align: middle;\n",
       "    }\n",
       "\n",
       "    .dataframe tbody tr th {\n",
       "        vertical-align: top;\n",
       "    }\n",
       "\n",
       "    .dataframe thead th {\n",
       "        text-align: right;\n",
       "    }\n",
       "</style>\n",
       "<table border=\"1\" class=\"dataframe\">\n",
       "  <thead>\n",
       "    <tr style=\"text-align: right;\">\n",
       "      <th></th>\n",
       "      <th>Entity</th>\n",
       "      <th>Code</th>\n",
       "      <th>Year</th>\n",
       "      <th>Wine Consumption</th>\n",
       "    </tr>\n",
       "  </thead>\n",
       "  <tbody>\n",
       "    <tr>\n",
       "      <th>0</th>\n",
       "      <td>Afghanistan</td>\n",
       "      <td>AFG</td>\n",
       "      <td>1961</td>\n",
       "      <td>0.0</td>\n",
       "    </tr>\n",
       "    <tr>\n",
       "      <th>1</th>\n",
       "      <td>Afghanistan</td>\n",
       "      <td>AFG</td>\n",
       "      <td>1962</td>\n",
       "      <td>0.0</td>\n",
       "    </tr>\n",
       "    <tr>\n",
       "      <th>2</th>\n",
       "      <td>Afghanistan</td>\n",
       "      <td>AFG</td>\n",
       "      <td>1963</td>\n",
       "      <td>0.0</td>\n",
       "    </tr>\n",
       "    <tr>\n",
       "      <th>3</th>\n",
       "      <td>Afghanistan</td>\n",
       "      <td>AFG</td>\n",
       "      <td>1964</td>\n",
       "      <td>0.0</td>\n",
       "    </tr>\n",
       "    <tr>\n",
       "      <th>4</th>\n",
       "      <td>Afghanistan</td>\n",
       "      <td>AFG</td>\n",
       "      <td>1965</td>\n",
       "      <td>0.0</td>\n",
       "    </tr>\n",
       "    <tr>\n",
       "      <th>5</th>\n",
       "      <td>Afghanistan</td>\n",
       "      <td>AFG</td>\n",
       "      <td>1966</td>\n",
       "      <td>0.0</td>\n",
       "    </tr>\n",
       "    <tr>\n",
       "      <th>6</th>\n",
       "      <td>Afghanistan</td>\n",
       "      <td>AFG</td>\n",
       "      <td>1967</td>\n",
       "      <td>0.0</td>\n",
       "    </tr>\n",
       "    <tr>\n",
       "      <th>7</th>\n",
       "      <td>Afghanistan</td>\n",
       "      <td>AFG</td>\n",
       "      <td>1968</td>\n",
       "      <td>0.0</td>\n",
       "    </tr>\n",
       "    <tr>\n",
       "      <th>8</th>\n",
       "      <td>Afghanistan</td>\n",
       "      <td>AFG</td>\n",
       "      <td>1969</td>\n",
       "      <td>0.0</td>\n",
       "    </tr>\n",
       "    <tr>\n",
       "      <th>9</th>\n",
       "      <td>Afghanistan</td>\n",
       "      <td>AFG</td>\n",
       "      <td>1970</td>\n",
       "      <td>0.0</td>\n",
       "    </tr>\n",
       "  </tbody>\n",
       "</table>\n",
       "</div>"
      ],
      "text/plain": [
       "        Entity Code  Year  Wine Consumption\n",
       "0  Afghanistan  AFG  1961               0.0\n",
       "1  Afghanistan  AFG  1962               0.0\n",
       "2  Afghanistan  AFG  1963               0.0\n",
       "3  Afghanistan  AFG  1964               0.0\n",
       "4  Afghanistan  AFG  1965               0.0\n",
       "5  Afghanistan  AFG  1966               0.0\n",
       "6  Afghanistan  AFG  1967               0.0\n",
       "7  Afghanistan  AFG  1968               0.0\n",
       "8  Afghanistan  AFG  1969               0.0\n",
       "9  Afghanistan  AFG  1970               0.0"
      ]
     },
     "execution_count": 26,
     "metadata": {},
     "output_type": "execute_result"
    }
   ],
   "source": [
    "df.head(10)"
   ]
  },
  {
   "cell_type": "code",
   "execution_count": 112,
   "metadata": {},
   "outputs": [
    {
     "data": {
      "text/plain": [
       "37"
      ]
     },
     "execution_count": 112,
     "metadata": {},
     "output_type": "execute_result"
    }
   ],
   "source": [
    "countries = list(set(df[\"Entity\"]))\n",
    "years = list(set(df['Year']))\n",
    "columns = list(df.columns)\n",
    "countries.index(\"Germany\")"
   ]
  },
  {
   "cell_type": "code",
   "execution_count": 208,
   "metadata": {},
   "outputs": [
    {
     "data": {
      "text/plain": [
       "(10000000, 261)"
      ]
     },
     "execution_count": 208,
     "metadata": {},
     "output_type": "execute_result"
    }
   ],
   "source": [
    "final_df = pd.DataFrame(data = np.zeros( (10000000, max_countries) ),\n",
    "                        index = np.arange(10000000),\n",
    "                        columns = [ country for country in countries_list])\n",
    "# save indices as strings to get meaningful names\n",
    "final_df.index = final_df.index.map(str)\n",
    "final_df.shape"
   ]
  },
  {
   "cell_type": "code",
   "execution_count": 207,
   "metadata": {},
   "outputs": [],
   "source": [
    "b = df[df['Entity'] == 'France']\n",
    "c = b[b['Year'] == 1999]#[columns[-1]]\n",
    "d = b[b['Year'] == 1999][columns[-1]].sum()\n",
    "\n",
    "#df.groupby([\"Entity\", 'Year']).describe()"
   ]
  },
  {
   "cell_type": "code",
   "execution_count": 212,
   "metadata": {},
   "outputs": [
    {
     "data": {
      "text/plain": [
       "'wine-consumption-per-person.csv'"
      ]
     },
     "execution_count": 212,
     "metadata": {},
     "output_type": "execute_result"
    }
   ],
   "source": [
    "type4Cols[-1]"
   ]
  },
  {
   "cell_type": "code",
   "execution_count": null,
   "metadata": {},
   "outputs": [
    {
     "name": "stdout",
     "output_type": "stream",
     "text": [
      "0 list out of 36\n",
      "1 list out of 36\n",
      "2 list out of 36\n",
      "3 list out of 36\n",
      "4 list out of 36\n",
      "5 list out of 36\n",
      "6 list out of 36\n",
      "7 list out of 36\n",
      "8 list out of 36\n",
      "9 list out of 36\n",
      "10 list out of 36\n",
      "11 list out of 36\n",
      "12 list out of 36\n",
      "13 list out of 36\n",
      "14 list out of 36\n",
      "15 list out of 36\n",
      "16 list out of 36\n",
      "17 list out of 36\n",
      "18 list out of 36\n",
      "19 list out of 36\n",
      "20 list out of 36\n",
      "21 list out of 36\n",
      "22 list out of 36\n",
      "23 list out of 36\n",
      "24 list out of 36\n",
      "25 list out of 36\n",
      "26 list out of 36\n",
      "27 list out of 36\n",
      "28 list out of 36\n",
      "29 list out of 36\n",
      "30 list out of 36\n",
      "31 list out of 36\n",
      "32 list out of 36\n",
      "33 list out of 36\n",
      "35 list out of 36\n",
      "35 list out of 36\n"
     ]
    }
   ],
   "source": [
    "try: \n",
    "    for lists in type4Cols:\n",
    "        if lists == 'Water and Sanitation Services.csv': # skip this guy since it causes troubles\n",
    "            lists = type4Cols[-1] # last list element\n",
    "        ## Read the file and get the all countries along with their reported years\n",
    "        print(\"{} list out of {}\".format(type4Cols.index(lists), len(type4Cols)))\n",
    "        df = pd.read_csv(os.path.join(datapath, str(lists) ) , encoding='latin-1')\n",
    "        columns = list(df.columns)\n",
    "        countries = list(set(df[\"Entity\"]))\n",
    "        years = list(set(df['Year']))\n",
    "        \n",
    "        # get a list of all the column names \n",
    "        indexNamesArr = final_df.index.values\n",
    "        nextListIndex = 0\n",
    "\n",
    "        ## groupby countries and then years accordingly\n",
    "        #df.groupby([\"Entity\", 'Year'])\n",
    "\n",
    "        firstListRun = False # flag for renaming the indices\n",
    "\n",
    "        for country in countries: \n",
    "            country_df = df[df['Entity'] == country]\n",
    "            i = nextListIndex\n",
    "\n",
    "            for year in years:\n",
    "                \n",
    "                # rename the indices only once\n",
    "                if not firstListRun:\n",
    "                    indexName = str(columns[-1]) + ' in ' + str(year)\n",
    "                    indexNamesArr[i] = indexName\n",
    "\n",
    "                ## get the proper values and fill empty ones with the average\n",
    "                value = country_df[country_df[\"Year\"] == year][columns[-1]].sum() if not country_df[country_df[\"Year\"] == year][columns[-1]].empty else country_df[columns[-1]].mean()\n",
    "                final_df.iat[i, countries.index(country)] = value # .iat[row, col]\n",
    "                i = i + 1\n",
    "\n",
    "            ## get the proper index for the next list to begin with\n",
    "            nextListIndex = i + 1 # need to add one otherwise it would overwrite the last entry from previous list    \n",
    "            firstListRun = True\n",
    "            \n",
    "except Exception as e: \n",
    "    print(\"Next List Index in line: {} of {}, Matrix Size: {}, list: {}\".format(i, nextListIndex, final_df.shape[0], lists))\n",
    "    print(e)\n",
    "    sys.exit()\n",
    "\n",
    "final_df"
   ]
  },
  {
   "cell_type": "code",
   "execution_count": 210,
   "metadata": {},
   "outputs": [
    {
     "data": {
      "text/html": [
       "<div>\n",
       "<style scoped>\n",
       "    .dataframe tbody tr th:only-of-type {\n",
       "        vertical-align: middle;\n",
       "    }\n",
       "\n",
       "    .dataframe tbody tr th {\n",
       "        vertical-align: top;\n",
       "    }\n",
       "\n",
       "    .dataframe thead th {\n",
       "        text-align: right;\n",
       "    }\n",
       "</style>\n",
       "<table border=\"1\" class=\"dataframe\">\n",
       "  <thead>\n",
       "    <tr style=\"text-align: right;\">\n",
       "      <th></th>\n",
       "      <th>Greenland</th>\n",
       "      <th>Japan</th>\n",
       "      <th>Portugal</th>\n",
       "      <th>Small states</th>\n",
       "      <th>Ecuador</th>\n",
       "      <th>IDA &amp; IBRD total</th>\n",
       "      <th>Bulgaria</th>\n",
       "      <th>Monaco</th>\n",
       "      <th>Mali</th>\n",
       "      <th>El Salvador</th>\n",
       "      <th>...</th>\n",
       "      <th>Finland</th>\n",
       "      <th>Rwanda</th>\n",
       "      <th>Middle East &amp; North Africa (IDA &amp; IBRD)</th>\n",
       "      <th>Senegal</th>\n",
       "      <th>Uganda</th>\n",
       "      <th>United Arab Emirates</th>\n",
       "      <th>Sri Lanka</th>\n",
       "      <th>Trinidad and Tobago</th>\n",
       "      <th>Belgium</th>\n",
       "      <th>Laos</th>\n",
       "    </tr>\n",
       "  </thead>\n",
       "  <tbody>\n",
       "    <tr>\n",
       "      <th>Food Balance Sheets: Vegetables - Food supply quantity (kg/capita/yr) (FAO (2017)) (kg) in 1961</th>\n",
       "      <td>96.79</td>\n",
       "      <td>0.0</td>\n",
       "      <td>0.000000</td>\n",
       "      <td>0.0</td>\n",
       "      <td>0.0</td>\n",
       "      <td>0.0</td>\n",
       "      <td>0.0</td>\n",
       "      <td>0.0</td>\n",
       "      <td>0.0</td>\n",
       "      <td>0.0</td>\n",
       "      <td>...</td>\n",
       "      <td>0.0</td>\n",
       "      <td>0.0</td>\n",
       "      <td>0.0</td>\n",
       "      <td>0.0</td>\n",
       "      <td>0.0</td>\n",
       "      <td>0.0</td>\n",
       "      <td>0.0</td>\n",
       "      <td>0.0</td>\n",
       "      <td>0.0</td>\n",
       "      <td>0.0</td>\n",
       "    </tr>\n",
       "    <tr>\n",
       "      <th>Food Balance Sheets: Vegetables - Food supply quantity (kg/capita/yr) (FAO (2017)) (kg) in 1962</th>\n",
       "      <td>108.07</td>\n",
       "      <td>0.0</td>\n",
       "      <td>0.000000</td>\n",
       "      <td>0.0</td>\n",
       "      <td>0.0</td>\n",
       "      <td>0.0</td>\n",
       "      <td>0.0</td>\n",
       "      <td>0.0</td>\n",
       "      <td>0.0</td>\n",
       "      <td>0.0</td>\n",
       "      <td>...</td>\n",
       "      <td>0.0</td>\n",
       "      <td>0.0</td>\n",
       "      <td>0.0</td>\n",
       "      <td>0.0</td>\n",
       "      <td>0.0</td>\n",
       "      <td>0.0</td>\n",
       "      <td>0.0</td>\n",
       "      <td>0.0</td>\n",
       "      <td>0.0</td>\n",
       "      <td>0.0</td>\n",
       "    </tr>\n",
       "    <tr>\n",
       "      <th>Food Balance Sheets: Vegetables - Food supply quantity (kg/capita/yr) (FAO (2017)) (kg) in 1963</th>\n",
       "      <td>119.47</td>\n",
       "      <td>12.3</td>\n",
       "      <td>0.000000</td>\n",
       "      <td>0.0</td>\n",
       "      <td>0.0</td>\n",
       "      <td>0.0</td>\n",
       "      <td>0.0</td>\n",
       "      <td>0.0</td>\n",
       "      <td>0.0</td>\n",
       "      <td>0.0</td>\n",
       "      <td>...</td>\n",
       "      <td>0.0</td>\n",
       "      <td>0.0</td>\n",
       "      <td>0.0</td>\n",
       "      <td>0.0</td>\n",
       "      <td>0.0</td>\n",
       "      <td>0.0</td>\n",
       "      <td>0.0</td>\n",
       "      <td>0.0</td>\n",
       "      <td>0.0</td>\n",
       "      <td>0.0</td>\n",
       "    </tr>\n",
       "    <tr>\n",
       "      <th>Food Balance Sheets: Vegetables - Food supply quantity (kg/capita/yr) (FAO (2017)) (kg) in 1964</th>\n",
       "      <td>114.02</td>\n",
       "      <td>0.0</td>\n",
       "      <td>0.000000</td>\n",
       "      <td>0.0</td>\n",
       "      <td>0.0</td>\n",
       "      <td>0.0</td>\n",
       "      <td>0.0</td>\n",
       "      <td>0.0</td>\n",
       "      <td>0.0</td>\n",
       "      <td>0.0</td>\n",
       "      <td>...</td>\n",
       "      <td>0.0</td>\n",
       "      <td>0.0</td>\n",
       "      <td>0.0</td>\n",
       "      <td>0.0</td>\n",
       "      <td>0.0</td>\n",
       "      <td>0.0</td>\n",
       "      <td>0.0</td>\n",
       "      <td>0.0</td>\n",
       "      <td>0.0</td>\n",
       "      <td>0.0</td>\n",
       "    </tr>\n",
       "    <tr>\n",
       "      <th>Food Balance Sheets: Vegetables - Food supply quantity (kg/capita/yr) (FAO (2017)) (kg) in 1965</th>\n",
       "      <td>119.56</td>\n",
       "      <td>0.0</td>\n",
       "      <td>5.859308</td>\n",
       "      <td>0.0</td>\n",
       "      <td>0.0</td>\n",
       "      <td>0.0</td>\n",
       "      <td>0.0</td>\n",
       "      <td>0.0</td>\n",
       "      <td>0.0</td>\n",
       "      <td>0.0</td>\n",
       "      <td>...</td>\n",
       "      <td>0.0</td>\n",
       "      <td>0.0</td>\n",
       "      <td>0.0</td>\n",
       "      <td>0.0</td>\n",
       "      <td>0.0</td>\n",
       "      <td>0.0</td>\n",
       "      <td>0.0</td>\n",
       "      <td>0.0</td>\n",
       "      <td>0.0</td>\n",
       "      <td>0.0</td>\n",
       "    </tr>\n",
       "  </tbody>\n",
       "</table>\n",
       "<p>5 rows × 261 columns</p>\n",
       "</div>"
      ],
      "text/plain": [
       "                                                    Greenland  Japan  \\\n",
       "Food Balance Sheets: Vegetables - Food supply q...      96.79    0.0   \n",
       "Food Balance Sheets: Vegetables - Food supply q...     108.07    0.0   \n",
       "Food Balance Sheets: Vegetables - Food supply q...     119.47   12.3   \n",
       "Food Balance Sheets: Vegetables - Food supply q...     114.02    0.0   \n",
       "Food Balance Sheets: Vegetables - Food supply q...     119.56    0.0   \n",
       "\n",
       "                                                    Portugal  Small states  \\\n",
       "Food Balance Sheets: Vegetables - Food supply q...  0.000000           0.0   \n",
       "Food Balance Sheets: Vegetables - Food supply q...  0.000000           0.0   \n",
       "Food Balance Sheets: Vegetables - Food supply q...  0.000000           0.0   \n",
       "Food Balance Sheets: Vegetables - Food supply q...  0.000000           0.0   \n",
       "Food Balance Sheets: Vegetables - Food supply q...  5.859308           0.0   \n",
       "\n",
       "                                                    Ecuador  IDA & IBRD total  \\\n",
       "Food Balance Sheets: Vegetables - Food supply q...      0.0               0.0   \n",
       "Food Balance Sheets: Vegetables - Food supply q...      0.0               0.0   \n",
       "Food Balance Sheets: Vegetables - Food supply q...      0.0               0.0   \n",
       "Food Balance Sheets: Vegetables - Food supply q...      0.0               0.0   \n",
       "Food Balance Sheets: Vegetables - Food supply q...      0.0               0.0   \n",
       "\n",
       "                                                    Bulgaria  Monaco  Mali  \\\n",
       "Food Balance Sheets: Vegetables - Food supply q...       0.0     0.0   0.0   \n",
       "Food Balance Sheets: Vegetables - Food supply q...       0.0     0.0   0.0   \n",
       "Food Balance Sheets: Vegetables - Food supply q...       0.0     0.0   0.0   \n",
       "Food Balance Sheets: Vegetables - Food supply q...       0.0     0.0   0.0   \n",
       "Food Balance Sheets: Vegetables - Food supply q...       0.0     0.0   0.0   \n",
       "\n",
       "                                                    El Salvador  ...   \\\n",
       "Food Balance Sheets: Vegetables - Food supply q...          0.0  ...    \n",
       "Food Balance Sheets: Vegetables - Food supply q...          0.0  ...    \n",
       "Food Balance Sheets: Vegetables - Food supply q...          0.0  ...    \n",
       "Food Balance Sheets: Vegetables - Food supply q...          0.0  ...    \n",
       "Food Balance Sheets: Vegetables - Food supply q...          0.0  ...    \n",
       "\n",
       "                                                    Finland  Rwanda  \\\n",
       "Food Balance Sheets: Vegetables - Food supply q...      0.0     0.0   \n",
       "Food Balance Sheets: Vegetables - Food supply q...      0.0     0.0   \n",
       "Food Balance Sheets: Vegetables - Food supply q...      0.0     0.0   \n",
       "Food Balance Sheets: Vegetables - Food supply q...      0.0     0.0   \n",
       "Food Balance Sheets: Vegetables - Food supply q...      0.0     0.0   \n",
       "\n",
       "                                                    Middle East & North Africa (IDA & IBRD)  \\\n",
       "Food Balance Sheets: Vegetables - Food supply q...                                      0.0   \n",
       "Food Balance Sheets: Vegetables - Food supply q...                                      0.0   \n",
       "Food Balance Sheets: Vegetables - Food supply q...                                      0.0   \n",
       "Food Balance Sheets: Vegetables - Food supply q...                                      0.0   \n",
       "Food Balance Sheets: Vegetables - Food supply q...                                      0.0   \n",
       "\n",
       "                                                    Senegal  Uganda  \\\n",
       "Food Balance Sheets: Vegetables - Food supply q...      0.0     0.0   \n",
       "Food Balance Sheets: Vegetables - Food supply q...      0.0     0.0   \n",
       "Food Balance Sheets: Vegetables - Food supply q...      0.0     0.0   \n",
       "Food Balance Sheets: Vegetables - Food supply q...      0.0     0.0   \n",
       "Food Balance Sheets: Vegetables - Food supply q...      0.0     0.0   \n",
       "\n",
       "                                                    United Arab Emirates  \\\n",
       "Food Balance Sheets: Vegetables - Food supply q...                   0.0   \n",
       "Food Balance Sheets: Vegetables - Food supply q...                   0.0   \n",
       "Food Balance Sheets: Vegetables - Food supply q...                   0.0   \n",
       "Food Balance Sheets: Vegetables - Food supply q...                   0.0   \n",
       "Food Balance Sheets: Vegetables - Food supply q...                   0.0   \n",
       "\n",
       "                                                    Sri Lanka  \\\n",
       "Food Balance Sheets: Vegetables - Food supply q...        0.0   \n",
       "Food Balance Sheets: Vegetables - Food supply q...        0.0   \n",
       "Food Balance Sheets: Vegetables - Food supply q...        0.0   \n",
       "Food Balance Sheets: Vegetables - Food supply q...        0.0   \n",
       "Food Balance Sheets: Vegetables - Food supply q...        0.0   \n",
       "\n",
       "                                                    Trinidad and Tobago  \\\n",
       "Food Balance Sheets: Vegetables - Food supply q...                  0.0   \n",
       "Food Balance Sheets: Vegetables - Food supply q...                  0.0   \n",
       "Food Balance Sheets: Vegetables - Food supply q...                  0.0   \n",
       "Food Balance Sheets: Vegetables - Food supply q...                  0.0   \n",
       "Food Balance Sheets: Vegetables - Food supply q...                  0.0   \n",
       "\n",
       "                                                    Belgium  Laos  \n",
       "Food Balance Sheets: Vegetables - Food supply q...      0.0   0.0  \n",
       "Food Balance Sheets: Vegetables - Food supply q...      0.0   0.0  \n",
       "Food Balance Sheets: Vegetables - Food supply q...      0.0   0.0  \n",
       "Food Balance Sheets: Vegetables - Food supply q...      0.0   0.0  \n",
       "Food Balance Sheets: Vegetables - Food supply q...      0.0   0.0  \n",
       "\n",
       "[5 rows x 261 columns]"
      ]
     },
     "execution_count": 210,
     "metadata": {},
     "output_type": "execute_result"
    }
   ],
   "source": [
    "final_df.head()"
   ]
  },
  {
   "cell_type": "code",
   "execution_count": null,
   "metadata": {
    "collapsed": true
   },
   "outputs": [],
   "source": [
    "final_df.to_csv(os.path.join(datapath, \"Merged UN Data.csv\"))"
   ]
  },
  {
   "cell_type": "code",
   "execution_count": 35,
   "metadata": {},
   "outputs": [
    {
     "data": {
      "text/plain": [
       "Entity\n",
       "Luxembourg    394.19\n",
       "Argentina     522.36\n",
       "Italy         559.67\n",
       "Portugal      588.63\n",
       "France        620.45\n",
       "Name: Wine Consumption, dtype: float64"
      ]
     },
     "execution_count": 35,
     "metadata": {},
     "output_type": "execute_result"
    }
   ],
   "source": [
    "df.groupby('Entity')['Wine Consumption'].sum().sort_values().tail(5)"
   ]
  },
  {
   "cell_type": "code",
   "execution_count": 28,
   "metadata": {},
   "outputs": [
    {
     "data": {
      "text/plain": [
       "<matplotlib.axes._subplots.AxesSubplot at 0x1f00f608828>"
      ]
     },
     "execution_count": 28,
     "metadata": {},
     "output_type": "execute_result"
    },
    {
     "data": {
      "image/png": "[encoded data removed]",
      "text/plain": [
       "<matplotlib.figure.Figure at 0x1f00f5e4dd8>"
      ]
     },
     "metadata": {
      "needs_background": "light"
     },
     "output_type": "display_data"
    }
   ],
   "source": [
    "df[df['Entity'] == 'Germany']['Wine Consumption'].plot.hist(bins=20)"
   ]
  },
  {
   "cell_type": "code",
   "execution_count": null,
   "metadata": {
    "collapsed": true
   },
   "outputs": [],
   "source": []
  }
 ],
 "metadata": {
  "kernelspec": {
   "display_name": "Python 3",
   "language": "python",
   "name": "python3"
  },
  "language_info": {
   "codemirror_mode": {
    "name": "ipython",
    "version": 3
   },
   "file_extension": ".py",
   "mimetype": "text/x-python",
   "name": "python",
   "nbconvert_exporter": "python",
   "pygments_lexer": "ipython3",
   "version": "3.6.4"
  }
 },
 "nbformat": 4,
 "nbformat_minor": 2
}
