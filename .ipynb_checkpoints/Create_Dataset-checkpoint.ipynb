{
 "cells": [
  {
   "cell_type": "markdown",
   "metadata": {},
   "source": [
    "## DATASET CREATION\n",
    "\n",
    "Unfortunately, the dataset I will work with does not come as one already done dataset - as it is mostly usual in Data Science projects. <br /> \n",
    "To get the sheer experience of how a normal Data Science job looks like I also wanted to dive into this issue. By experience I can tell that this takes a shit ton of time - like almost 80% - of preparing the data. <br /> \n",
    "Since the data usually shares the same countries and lists mostly the same years of the recording I used this as a primary key where I connect the datapoints with each other. <br /> \n",
    "However, the  countries are listed in rows along with the year of the recording - I want to have a final dataset that looks like follows: <br /> \n",
    "\n",
    "|Country | Afghanistan | Albania | ... | Zimbabwe | \n",
    "| ----- | ----------  | ------ | ----- | ------- | \n",
    "|Alcohol consumption [l] | 0.2 | 2.4 | ... | 0.01 |\n",
    "|Human Develpment Index (HDI) | 0.1 | 0.15 | ... | 0.1 | \n",
    "|... | ... | ... | ... | ... |\n",
    "|Healthcare Expenditure [$] | 13.322 | 15.211 | ... | 1.039 |\n",
    "\n",
    "Thus, I have to transpose each of the countries and record each of the years as seperate entry in the dataset. <br /> \n",
    "\n",
    "All the data is [publicly available](https://ourworldindata.org), and this source is trusted by many notorious companies such as Vox, The Ney York times and even the top universities of this world like MIT, Oxford, Stanford. <br /> \n",
    "Hence, I assume that this data is rather based on actual recording from the respective country. <br /> \n",
    "Even the United Nation published their records in this page and I bet that these folks do some amazing work, which we can trust. <br />\n",
    "\n",
    "\n",
    "But now let's not waste too much with the explaination part and go straight into how I merged the datafiles to one huge on. <br /> "
   ]
  },
  {
   "cell_type": "code",
   "execution_count": 1,
   "metadata": {
    "collapsed": true
   },
   "outputs": [],
   "source": [
    "import os \n",
    "import sys\n",
    "import numpy as np \n",
    "import pandas as pd \n",
    "import matplotlib.pyplot as plt\n",
    "%matplotlib inline"
   ]
  },
  {
   "cell_type": "code",
   "execution_count": 2,
   "metadata": {},
   "outputs": [
    {
     "data": {
      "text/plain": [
       "'C:\\\\Users\\\\Lenny\\\\Documents\\\\Studium_Robotics (M.Sc.)\\\\03_Semester 3 - Oslo ERASMUS\\\\01_Applied Data Analysis and Machine Learning\\\\Project 3'"
      ]
     },
     "execution_count": 2,
     "metadata": {},
     "output_type": "execute_result"
    }
   ],
   "source": [
    "datapath = os.path.join(os.path.join(os.getcwd(), 'data'), 'Health')\n",
    "datapath"
   ]
  },
  {
   "cell_type": "code",
   "execution_count": 4,
   "metadata": {},
   "outputs": [
    {
     "name": "stderr",
     "output_type": "stream",
     "text": [
      "C:\\Users\\Lenny\\AppData\\Local\\Programs\\Python\\Python36\\lib\\site-packages\\IPython\\core\\interactiveshell.py:3020: DtypeWarning: Columns (0) have mixed types. Specify dtype option on import or set low_memory=False.\n",
      "  interactivity=interactivity, compiler=compiler, result=result)\n"
     ]
    },
    {
     "name": "stdout",
     "output_type": "stream",
     "text": [
      "262 ['Liechtenstein', 'South Africa', 'Somalia', 'Bosnia and Herzegovina', 'Bangladesh', 'Hong Kong', 'Swaziland', 'Arab World', 'Barbados', 'Dominica', 'Maldives', 'United States Virgin Islands', 'Venezuela', 'Lithuania', 'Hungary', 'France', 'Mozambique', 'Democratic Republic of Congo', 'British Virgin Islands', 'Belarus', 'Russia', 'High income', 'Peru', 'Guatemala', 'Caribbean small states', 'Ghana', 'Egypt', 'Kenya', 'Other small states', 'Serbia', 'Canada', 'Guinea', 'Central African Republic', 'Algeria', 'Italy', 'Lesotho', 'North America', 'Colombia', 'Gibraltar', 'Haiti', 'Ireland', 'Papua New Guinea', 'Rwanda', 'European Union', 'Morocco', 'Togo', 'Montenegro', 'Gambia', 'Netherlands', 'Solomon Islands', 'Nauru', 'Jordan', 'Low & middle income', 'Moldova', 'South Korea', 'Libya', 'American Samoa', 'Costa Rica', 'Luxembourg', 'Isle of Man', 'Congo', 'Tajikistan', 'Burundi', 'Cape Verde', 'IBRD only', 'Indonesia', 'Portugal', 'Saudi Arabia', 'Vietnam', 'Channel Islands', 'North Korea', 'Qatar', 'Kyrgyzstan', 'Azerbaijan', 'South Asia', 'Sub-Saharan Africa (IDA & IBRD)', 'Pakistan', 'Belize', 'East Asia & Pacific (IDA & IBRD)', 'Tonga', 'Latvia', 'Guam', 'Syrian Arab Republic', 'Thailand', 'Vanuatu', 'Palau', 'Austria', 'Ethiopia', 'Norway', 'Chile', 'Guinea-Bissau', 'Botswana', 'IDA blend', 'Mongolia', 'Pacific island small states', 'United States', 'Uruguay', 'Dominican Republic', 'IDA & IBRD total', 'Middle income', 'Heavily indebted poor countries (HIPC)', 'Liberia', 'Philippines', 'Ukraine', 'Kuwait', 'Finland', 'IDA only', 'Iran', 'Tuvalu', 'Romania', 'Chad', 'Zambia', 'Czech Republic', 'Sub-Saharan Africa', 'Late-demographic dividend', 'Lebanon', 'Seychelles', 'Turkey', 'Early-demographic dividend', 'Faeroe Islands', 'Palestine', 'Switzerland', 'Madagascar', 'Mali', 'Albania', 'Middle East & North Africa (excluding high income)', 'Germany', 'Yemen', 'Comoros', 'Europe & Central Asia (excluding high income)', 'Malawi', 'Timor', 'China', 'Sierra Leone', 'Brunei', 'Croatia', 'Greenland', 'Mexico', 'Guyana', 'Bhutan', 'Turks and Caicos Islands', 'United Kingdom', 'Slovakia', 'Afghanistan', 'Argentina', 'Laos', 'Macedonia', 'Georgia', 'Cuba', 'Macao', 'Suriname', 'Mauritius', 'Saint Lucia', 'Sao Tome and Principe', 'Small states', 'Europe & Central Asia (IDA & IBRD)', 'Lower middle income', 'San Marino', 'Iraq', 'Cambodia', 'Niger', 'Tunisia', 'Fiji', 'Malta', 'Low income', 'Monaco', 'Japan', 'Israel', 'Sri Lanka', 'Sint Maarten (Dutch part)', 'Tanzania', 'Sub-Saharan Africa (excluding high income)', 'Cameroon', 'Northern Mariana Islands', 'Panama', 'South Asia (IDA & IBRD)', 'Middle East & North Africa', 'Oman', 'Equatorial Guinea', 'Gabon', \"Cote d'Ivoire\", 'Bahrain', 'El Salvador', 'Estonia', 'India', 'Iceland', 'Senegal', 'New Caledonia', 'Turkmenistan', 'Least developed countries: UN classification', 'World', 'Uzbekistan', 'Australia', 'Samoa', 'Ecuador', 'Saint Kitts and Nevis', 'Armenia', 'Curacao', 'Paraguay', 'Singapore', 'Fragile and conflict affected situations', 'Kosovo', 'Angola', 'Pre-demographic dividend', 'Burkina Faso', 'Honduras', 'Kazakhstan', 'Spain', 'Nepal', 'New Zealand', 'Kiribati', 'Cyprus', 'Nicaragua', 'Cayman Islands', 'Poland', 'Sweden', 'Uganda', 'Nigeria', 'Latin America & Caribbean', 'Brazil', 'East Asia & Pacific', 'Grenada', 'Latin America & Caribbean (excluding high income)', 'East Asia & Pacific (excluding high income)', 'Sudan', 'Saint Vincent and the Grenadines', 'Denmark', 'Bermuda', 'Malaysia', 'Middle East & North Africa (IDA & IBRD)', 'Djibouti', 'Saint Martin (French part)', 'OECD members', 'IDA total', 'Bolivia', 'French Polynesia', 'Aruba', 'Zimbabwe', 'Belgium', 'Mauritania', 'Slovenia', 'Upper middle income', 'Marshall Islands', 'Euro area', 'Trinidad and Tobago', 'Andorra', 'Micronesia (country)', 'Puerto Rico', 'Antigua and Barbuda', 'Central Europe and the Baltics', 'Post-demographic dividend', 'United Arab Emirates', 'Europe & Central Asia', 'Myanmar', 'Benin', 'Bulgaria', 'Latin America & Caribbean (IDA & IBRD)', 'Jamaica', 'Greece', 'Eritrea', 'Bahamas', 'Namibia']\n"
     ]
    }
   ],
   "source": [
    "dataFileNames = [f for f in os.listdir(datapath) if os.path.isfile(os.path.join(datapath, f))]\n",
    "type4Cols = []\n",
    "type7Cols = []\n",
    "manualLists = []\n",
    "max_countries = 0\n",
    "countries_list = []\n",
    "\n",
    "# the datasets mostly have the same size of 4 columns and same setup so let's get those first\n",
    "\n",
    "for file in dataFileNames: \n",
    "    try:\n",
    "        df = pd.read_csv(os.path.join(datapath, str(file) ) , encoding='latin-1')\n",
    "    except: \n",
    "        print(file)\n",
    "        manualLists.append(file)\n",
    "    if df.shape[1] == 4: # one type of files (4 columns) \n",
    "        type4Cols.append(file) \n",
    "        countries = list(set(df[\"Entity\"]))\n",
    "        if len(countries) > max_countries: \n",
    "            max_countries = len(countries)\n",
    "            countries_list = countries\n",
    "    elif df.shape[1] == 7: \n",
    "        type7Cols.append(file) \n",
    "    else: # manual shit  to do then \n",
    "        manualLists.append(file)\n",
    "print( max_countries, countries_list)"
   ]
  },
  {
   "cell_type": "code",
   "execution_count": 5,
   "metadata": {},
   "outputs": [
    {
     "data": {
      "text/html": [
       "<div>\n",
       "<style scoped>\n",
       "    .dataframe tbody tr th:only-of-type {\n",
       "        vertical-align: middle;\n",
       "    }\n",
       "\n",
       "    .dataframe tbody tr th {\n",
       "        vertical-align: top;\n",
       "    }\n",
       "\n",
       "    .dataframe thead th {\n",
       "        text-align: right;\n",
       "    }\n",
       "</style>\n",
       "<table border=\"1\" class=\"dataframe\">\n",
       "  <thead>\n",
       "    <tr style=\"text-align: right;\">\n",
       "      <th></th>\n",
       "      <th>Entity</th>\n",
       "      <th>Code</th>\n",
       "      <th>Year</th>\n",
       "      <th>Wine Consumption [l]</th>\n",
       "    </tr>\n",
       "  </thead>\n",
       "  <tbody>\n",
       "    <tr>\n",
       "      <th>0</th>\n",
       "      <td>Afghanistan</td>\n",
       "      <td>AFG</td>\n",
       "      <td>1961</td>\n",
       "      <td>0.0</td>\n",
       "    </tr>\n",
       "    <tr>\n",
       "      <th>1</th>\n",
       "      <td>Afghanistan</td>\n",
       "      <td>AFG</td>\n",
       "      <td>1962</td>\n",
       "      <td>0.0</td>\n",
       "    </tr>\n",
       "    <tr>\n",
       "      <th>2</th>\n",
       "      <td>Afghanistan</td>\n",
       "      <td>AFG</td>\n",
       "      <td>1963</td>\n",
       "      <td>0.0</td>\n",
       "    </tr>\n",
       "    <tr>\n",
       "      <th>3</th>\n",
       "      <td>Afghanistan</td>\n",
       "      <td>AFG</td>\n",
       "      <td>1964</td>\n",
       "      <td>0.0</td>\n",
       "    </tr>\n",
       "    <tr>\n",
       "      <th>4</th>\n",
       "      <td>Afghanistan</td>\n",
       "      <td>AFG</td>\n",
       "      <td>1965</td>\n",
       "      <td>0.0</td>\n",
       "    </tr>\n",
       "    <tr>\n",
       "      <th>5</th>\n",
       "      <td>Afghanistan</td>\n",
       "      <td>AFG</td>\n",
       "      <td>1966</td>\n",
       "      <td>0.0</td>\n",
       "    </tr>\n",
       "    <tr>\n",
       "      <th>6</th>\n",
       "      <td>Afghanistan</td>\n",
       "      <td>AFG</td>\n",
       "      <td>1967</td>\n",
       "      <td>0.0</td>\n",
       "    </tr>\n",
       "    <tr>\n",
       "      <th>7</th>\n",
       "      <td>Afghanistan</td>\n",
       "      <td>AFG</td>\n",
       "      <td>1968</td>\n",
       "      <td>0.0</td>\n",
       "    </tr>\n",
       "    <tr>\n",
       "      <th>8</th>\n",
       "      <td>Afghanistan</td>\n",
       "      <td>AFG</td>\n",
       "      <td>1969</td>\n",
       "      <td>0.0</td>\n",
       "    </tr>\n",
       "    <tr>\n",
       "      <th>9</th>\n",
       "      <td>Afghanistan</td>\n",
       "      <td>AFG</td>\n",
       "      <td>1970</td>\n",
       "      <td>0.0</td>\n",
       "    </tr>\n",
       "  </tbody>\n",
       "</table>\n",
       "</div>"
      ],
      "text/plain": [
       "        Entity Code  Year  Wine Consumption [l]\n",
       "0  Afghanistan  AFG  1961                   0.0\n",
       "1  Afghanistan  AFG  1962                   0.0\n",
       "2  Afghanistan  AFG  1963                   0.0\n",
       "3  Afghanistan  AFG  1964                   0.0\n",
       "4  Afghanistan  AFG  1965                   0.0\n",
       "5  Afghanistan  AFG  1966                   0.0\n",
       "6  Afghanistan  AFG  1967                   0.0\n",
       "7  Afghanistan  AFG  1968                   0.0\n",
       "8  Afghanistan  AFG  1969                   0.0\n",
       "9  Afghanistan  AFG  1970                   0.0"
      ]
     },
     "execution_count": 5,
     "metadata": {},
     "output_type": "execute_result"
    }
   ],
   "source": [
    "df.head(10)"
   ]
  },
  {
   "cell_type": "code",
   "execution_count": 6,
   "metadata": {},
   "outputs": [
    {
     "data": {
      "text/plain": [
       "(10000000, 262)"
      ]
     },
     "execution_count": 6,
     "metadata": {},
     "output_type": "execute_result"
    }
   ],
   "source": [
    "# create dataframe where we want to paste everything inside\n",
    "final_df = pd.DataFrame(data = np.zeros( (10000000, max_countries) ),\n",
    "                        index = np.arange(10000000),\n",
    "                        columns = [ country for country in countries_list])\n",
    "# save indices as strings to get meaningful names\n",
    "final_df.index = final_df.index.map(str)\n",
    "final_df.shape"
   ]
  },
  {
   "cell_type": "code",
   "execution_count": 13,
   "metadata": {},
   "outputs": [
    {
     "name": "stdout",
     "output_type": "stream",
     "text": [
      "7.8\n"
     ]
    },
    {
     "data": {
      "text/html": [
       "<div>\n",
       "<style scoped>\n",
       "    .dataframe tbody tr th:only-of-type {\n",
       "        vertical-align: middle;\n",
       "    }\n",
       "\n",
       "    .dataframe tbody tr th {\n",
       "        vertical-align: top;\n",
       "    }\n",
       "\n",
       "    .dataframe thead th {\n",
       "        text-align: right;\n",
       "    }\n",
       "</style>\n",
       "<table border=\"1\" class=\"dataframe\">\n",
       "  <thead>\n",
       "    <tr style=\"text-align: right;\">\n",
       "      <th></th>\n",
       "      <th>Entity</th>\n",
       "      <th>Code</th>\n",
       "      <th>Year</th>\n",
       "      <th>Wine Consumption [l]</th>\n",
       "    </tr>\n",
       "  </thead>\n",
       "  <tbody>\n",
       "    <tr>\n",
       "      <th>2840</th>\n",
       "      <td>France</td>\n",
       "      <td>FRA</td>\n",
       "      <td>1999</td>\n",
       "      <td>7.8</td>\n",
       "    </tr>\n",
       "  </tbody>\n",
       "</table>\n",
       "</div>"
      ],
      "text/plain": [
       "      Entity Code  Year  Wine Consumption [l]\n",
       "2840  France  FRA  1999                   7.8"
      ]
     },
     "execution_count": 13,
     "metadata": {},
     "output_type": "execute_result"
    }
   ],
   "source": [
    "# testing to get values of the specific entries and Co\n",
    "columns = list(df.columns)\n",
    "b = df[df['Entity'] == 'France']\n",
    "c = b[b['Year'] == 1999]#[columns[-1]]\n",
    "d = b[b['Year'] == 1999][columns[-1]].sum()\n",
    "print(d)\n",
    "c\n",
    "#df.groupby([\"Entity\", 'Year']).describe()"
   ]
  },
  {
   "cell_type": "code",
   "execution_count": null,
   "metadata": {},
   "outputs": [
    {
     "name": "stdout",
     "output_type": "stream",
     "text": [
      "0 list out of 60, Index: 0, Name: agricultural-area-per-capita.csv\n",
      "Agriculutral are per capita [h/person] in 1980\n",
      "Agriculutral are per capita [h/person] in 2000\n",
      "0 country out of 187\n",
      "1 country out of 187\n",
      "2 country out of 187\n",
      "3 country out of 187\n",
      "4 country out of 187\n",
      "5 country out of 187\n",
      "6 country out of 187\n",
      "7 country out of 187\n",
      "8 country out of 187\n",
      "9 country out of 187\n",
      "10 country out of 187\n"
     ]
    }
   ],
   "source": [
    "# paste the values into the final_df from each single list\n",
    "nextListIndex = 0\n",
    "\n",
    "try: \n",
    "    for lists in type4Cols:\n",
    "        ## Read the file and get the all countries along with their reported years\n",
    "        print(\"{} list out of {}, Index: {}, Name: {}\".format(type4Cols.index(lists), len(type4Cols), nextListIndex, lists))\n",
    "        df = pd.read_csv(os.path.join(datapath, str(lists) ) , encoding='latin-1')\n",
    "        \n",
    "        # get the col names, unique countries and unique years\n",
    "        columns = list(df.columns)\n",
    "        countries = list(set(df[\"Entity\"]))\n",
    "        years = list(set(df['Year']))\n",
    "        \n",
    "        # get a list of all the index/row names\n",
    "        indexNamesArr = final_df.index.values\n",
    "\n",
    "        ## groupby countries and then years accordingly\n",
    "        #df.groupby([\"Entity\", 'Year'])\n",
    "        \n",
    "        ## BREAK TO CHECK THE CORRECT VALUES AFTER 3 LISTS\n",
    "        if type4Cols.index(lists) == 3: \n",
    "            break\n",
    "\n",
    "        firstListRun = False # flag for renaming the indices\n",
    "\n",
    "        # loop thru every country in the list\n",
    "        for country in countries:\n",
    "            # take a dataframe for one country at a time\n",
    "            country_df = df[df['Entity'] == country]\n",
    "            \n",
    "            # start at 0 for each country in the same list\n",
    "            #i = 0\n",
    "\n",
    "            # loop thru every year within that country - assuming the years are in the same order for every country\n",
    "            for year in years:\n",
    "                \n",
    "                # rename the indices only if it is the very first run for the country\n",
    "                if not firstListRun:\n",
    "                    indexName = str(columns[-1]) + ' in ' + str(year)\n",
    "                    indexNamesArr[nextListIndex] = indexName\n",
    "                    nextListIndex += 1\n",
    "                    if nextListIndex % 20 == 0: \n",
    "                        print(indexName)\n",
    "\n",
    "                ## get the proper value and fill empty ones, if not available, fill it with the average\n",
    "                # note: .sum() is only having one element anyway, just done to get the value as a float not an array\n",
    "                value = country_df[country_df[\"Year\"] == year][columns[-1]].sum() if not country_df[country_df[\"Year\"] == year][columns[-1]].empty else country_df[columns[-1]].mean()\n",
    "                # get the name of the row\n",
    "                idxName = str(columns[-1]) + ' in ' + str(year)\n",
    "                # assign the value in the merged df with the value \n",
    "                final_df.iat[list(final_df.index.values).index(idxName), countries.index(country)] = value # .iat[row, col]\n",
    "                \n",
    "                # increase the index value \n",
    "                #i = i + 1\n",
    "\n",
    "            ## get the proper index for the next list to begin with   \n",
    "            firstListRun = True\n",
    "            # print progress\n",
    "            if countries.index(country) % 15 == 0:\n",
    "                print(\"{} country out of {}\".format(countries.index(country), len(countries)))\n",
    "            \n",
    "except Exception as e: \n",
    "    print(\"Next List Index in line: {} of {}, Matrix Size: {}, list: {}\".format(i, nextListIndex, final_df.shape[0], lists))\n",
    "    print(e)\n",
    "    sys.exit()"
   ]
  },
  {
   "cell_type": "code",
   "execution_count": null,
   "metadata": {
    "collapsed": true
   },
   "outputs": [],
   "source": [
    "final_df.head(15)"
   ]
  },
  {
   "cell_type": "code",
   "execution_count": 32,
   "metadata": {},
   "outputs": [
    {
     "data": {
      "text/plain": [
       "53"
      ]
     },
     "execution_count": 32,
     "metadata": {},
     "output_type": "execute_result"
    }
   ],
   "source": [
    "indexNames = final_df.index.values\n",
    "idxName = 'Alcohol-attributable deaths [%] in 2012'\n",
    "index = list(final_df.index.values).index(idxName)\n",
    "#indexNames[50:65]\n",
    "index"
   ]
  },
  {
   "cell_type": "code",
   "execution_count": null,
   "metadata": {
    "collapsed": true
   },
   "outputs": [],
   "source": [
    "final_df.loc[ 'b' : 'd'] #index it properly"
   ]
  },
  {
   "cell_type": "code",
   "execution_count": null,
   "metadata": {
    "collapsed": true
   },
   "outputs": [],
   "source": [
    "final_df.to_csv(os.path.join(datapath, \"Merged UN Data.csv\"))"
   ]
  },
  {
   "cell_type": "markdown",
   "metadata": {},
   "source": [
    "BELOW HERE IS JUST THE PLAYGROUND TO TRY SOME STUFF OUT -> The dataset should be done in the top part"
   ]
  },
  {
   "cell_type": "code",
   "execution_count": null,
   "metadata": {},
   "outputs": [],
   "source": [
    "df.groupby('Entity')['Wine Consumption'].sum().sort_values().tail(5)"
   ]
  },
  {
   "cell_type": "code",
   "execution_count": null,
   "metadata": {},
   "outputs": [],
   "source": [
    "df[df['Entity'] == 'Germany']['Wine Consumption'].plot.hist(bins=20)"
   ]
  },
  {
   "cell_type": "code",
   "execution_count": null,
   "metadata": {
    "collapsed": true
   },
   "outputs": [],
   "source": []
  }
 ],
 "metadata": {
  "kernelspec": {
   "display_name": "Python 3",
   "language": "python",
   "name": "python3"
  },
  "language_info": {
   "codemirror_mode": {
    "name": "ipython",
    "version": 3
   },
   "file_extension": ".py",
   "mimetype": "text/x-python",
   "name": "python",
   "nbconvert_exporter": "python",
   "pygments_lexer": "ipython3",
   "version": "3.6.4"
  }
 },
 "nbformat": 4,
 "nbformat_minor": 2
}
